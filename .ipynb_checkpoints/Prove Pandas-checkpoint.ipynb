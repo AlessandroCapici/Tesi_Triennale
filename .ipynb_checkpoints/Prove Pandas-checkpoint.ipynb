{
 "cells": [
  {
   "cell_type": "markdown",
   "metadata": {},
   "source": [
    "# Import Utili"
   ]
  },
  {
   "cell_type": "code",
   "execution_count": 1,
   "metadata": {},
   "outputs": [],
   "source": [
    "import pandas as pd\n",
    "import matplotlib.pyplot as plt\n",
    "import json\n",
    "from sqlalchemy import create_engine\n",
    "import pymysql"
   ]
  },
  {
   "cell_type": "markdown",
   "metadata": {},
   "source": [
    "# Definisco funzioni per caricare e pulire i dati\n",
    "## Ho 5 funzioni :\n",
    "  - **readCsv** : leggo il csv \n",
    "  - **getCategory** : leggo solo la colonna category normalizzata visto che i record in quella colonna sono in formato json \n",
    "  - **getCreator** : leggo solo la colonna creator normalizzata visto che i record in quella colonna sono in formato json \n",
    "  - **besteffort_loads** : funzione che mi permette di caricare i json not well formed impostando valori non leggibili a null \n",
    "  - **merge** : Prendo in ingresso una DataFrame corrispondente a una colonna con i dati in formato json e la aggiungo al dataset iniziale "
   ]
  },
  {
   "cell_type": "code",
   "execution_count": 24,
   "metadata": {},
   "outputs": [],
   "source": [
    "def readCsv(path):\n",
    "    return pd.read_csv(path)\n"
   ]
  },
  {
   "cell_type": "code",
   "execution_count": 7,
   "metadata": {},
   "outputs": [],
   "source": [
    "def getCategory(dataset):\n",
    "    normalized_category=pd.json_normalize(dataset.category.apply(json.loads))\n",
    "    normalized_category.columns=normalized_category.columns.map(lambda x: str(x) + '_category')\n",
    "    return normalized_category"
   ]
  },
  {
   "cell_type": "code",
   "execution_count": 11,
   "metadata": {},
   "outputs": [],
   "source": [
    "def besteffort_loads(obj):\n",
    "    try:\n",
    "        return json.loads(obj)\n",
    "    except (TypeError, ValueError):\n",
    "        return {}"
   ]
  },
  {
   "cell_type": "code",
   "execution_count": 14,
   "metadata": {},
   "outputs": [],
   "source": [
    "def getCreator(dataset):\n",
    "    normalized_creator=pd.json_normalize(dataset.creator.apply(besteffort_loads))\n",
    "    normalized_creator.columns=normalized_creator.columns.map(lambda x: str(x) + '_creator')\n",
    "    return normalized_creator"
   ]
  },
  {
   "cell_type": "code",
   "execution_count": 18,
   "metadata": {},
   "outputs": [],
   "source": [
    "def merge(dataset,category,name):\n",
    "    merged_data = pd.merge(dataset,category, left_index=True, right_index=True)\n",
    "    del merged_data[name]\n",
    "    return merged_data"
   ]
  },
  {
   "cell_type": "markdown",
   "metadata": {},
   "source": [
    "# Pulisco il Dataset\n",
    " Utilizzando le funzioni prima definite carico e pulisco i dati di un Dataset"
   ]
  },
  {
   "cell_type": "code",
   "execution_count": 28,
   "metadata": {},
   "outputs": [],
   "source": [
    "dataset=readCsv('csv\\Kickstarter000.csv')\n",
    "category= getCategory(dataset)\n",
    "dataset= merge(dataset,category,'category')\n",
    "creator= getCreator(dataset)\n",
    "dataset= merge(dataset,creator,'creator')\n"
   ]
  },
  {
   "cell_type": "markdown",
   "metadata": {},
   "source": [
    "# Connessione al DB"
   ]
  },
  {
   "cell_type": "code",
   "execution_count": null,
   "metadata": {},
   "outputs": [],
   "source": [
    "sqlEngine = create_engine('mysql+pymysql://root:@127.0.0.1/test', pool_recycle=3600)\n",
    "dbConnection = sqlEngine.connect()"
   ]
  },
  {
   "cell_type": "code",
   "execution_count": null,
   "metadata": {},
   "outputs": [],
   "source": [
    "index='country'\n",
    "n= dataset['country'].nunique()\n",
    "country= dataset['country']\n",
    "plt.hist(country,n)"
   ]
  }
 ],
 "metadata": {
  "kernelspec": {
   "display_name": "Python 3",
   "language": "python",
   "name": "python3"
  },
  "language_info": {
   "codemirror_mode": {
    "name": "ipython",
    "version": 3
   },
   "file_extension": ".py",
   "mimetype": "text/x-python",
   "name": "python",
   "nbconvert_exporter": "python",
   "pygments_lexer": "ipython3",
   "version": "3.6.10"
  }
 },
 "nbformat": 4,
 "nbformat_minor": 4
}
